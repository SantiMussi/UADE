{
  "cells": [
    {
      "cell_type": "markdown",
      "metadata": {
        "id": "TY57hyLwmTDF"
      },
      "source": [
        "# Realizar los siguientes ejercicios escritos en Seudocodigo escribirlos a Python"
      ]
    },
    {
      "cell_type": "markdown",
      "metadata": {
        "id": "Yfwsps1YmxdO"
      },
      "source": [
        "4. Diseñe un pseudocódigo que halle el área y el perímetro de un rectángulo. \n",
        "Considere las siguientes fórmulas: area = base x altura, perimetro = 2 x \n",
        "(base+altura).\n",
        "```python\n",
        "INICIO\n",
        "DEFINIR\n",
        "Real: base, altura, area, perimetro \n",
        "LEER base, altura \n",
        "area = base*altura\n",
        "perimetro = 2*(base+altura)\n",
        "IMPRIMIR area, perimetro\n",
        "FIN\n",
        "```"
      ]
    },
    {
      "cell_type": "code",
      "execution_count": null,
      "metadata": {
        "colab": {
          "base_uri": "https://localhost:8080/"
        },
        "id": "K5xxgB2bKuEC",
        "outputId": "d847f803-ceb4-4144-b25a-42fa0687f451"
      },
      "outputs": [
        {
          "ename": "",
          "evalue": "",
          "output_type": "error",
          "traceback": [
            "\u001b[1;31mRunning cells with 'c:\\Users\\Santi\\AppData\\Local\\Programs\\Python\\Python311\\python.exe' requires the ipykernel package.\n",
            "\u001b[1;31mRun the following command to install 'ipykernel' into the Python environment. \n",
            "\u001b[1;31mCommand: 'c:/Users/Santi/AppData/Local/Programs/Python/Python311/python.exe -m pip install ipykernel -U --user --force-reinstall'"
          ]
        }
      ],
      "source": [
        "base = float(input(\"base del rectangulo\"))\n",
        "altura = float(input(\"altura del rectangulo\"))\n",
        "area = base*altura\n",
        "perimetro = 2*(base+altura)\n",
        "print(\"El area es:\", area)\n",
        "print(\"El perimetro es:\", perimetro)"
      ]
    },
    {
      "cell_type": "markdown",
      "metadata": {
        "id": "WZ6XUIvJo4ll"
      },
      "source": [
        "5. El sueldo neto de un vendedor se calcula como la suma de un sueldo \n",
        "básico de S/.250 más el 12% del monto total vendido. Diseñe un algoritmo \n",
        "que determine el sueldo neto de un vendedor sabiendo que hizo tres ventas \n",
        "en el mes.\n",
        "```python\n",
        "INICIO\n",
        "DEFINIR\n",
        "Real :venta1, venta2, venta3, ventatot, comision, sueldoneto\n",
        "LEER venta1, venta2, venta3\n",
        "ventatot = venta1 + venta2 + venta3\n",
        "comision = 0.12*ventatot\n",
        "sueldoneto = 250 + comision\n",
        "IMPRIMIR sueldoneto\n",
        "FIN\n",
        "```"
      ]
    },
    {
      "cell_type": "code",
      "execution_count": null,
      "metadata": {
        "id": "_E2o2w1GpB2q"
      },
      "outputs": [
        {
          "ename": "",
          "evalue": "",
          "output_type": "error",
          "traceback": [
            "\u001b[1;31mRunning cells with 'c:\\Users\\Santi\\AppData\\Local\\Programs\\Python\\Python311\\python.exe' requires the ipykernel package.\n",
            "\u001b[1;31mRun the following command to install 'ipykernel' into the Python environment. \n",
            "\u001b[1;31mCommand: 'c:/Users/Santi/AppData/Local/Programs/Python/Python311/python.exe -m pip install ipykernel -U --user --force-reinstall'"
          ]
        }
      ],
      "source": [
        "venta1 = float(input('Ingrese el valor de la primer venta >> '))\n",
        "venta2 = float(input('Ingrese el valor de la segunda venta >> '))\n",
        "venta3 = float(input('Ingrese el valor de la tercer venta >> '))\n",
        "ventatot = venta1 + venta2 + venta3\n",
        "comision = 0.12*ventatot\n",
        "sueldoneto = 250 + comision\n",
        "print(\"El sueldo neto es >> \" + sueldoneto)"
      ]
    },
    {
      "cell_type": "markdown",
      "metadata": {
        "id": "Wu0AzUN-pE1S"
      },
      "source": [
        "6. Diseñe un pseudocódigo para convertir una longitud dada en centímetros a pies. Considere que: 1 pie = 30.48 centímetros.\n",
        "\n",
        "```python\n",
        "INICIO\n",
        "DEFINIR\n",
        "Real : cpies, ccent\n",
        "LEER ccent \n",
        "cpies = ccent/30.48\n",
        "IMPRIMIR cpies\n",
        "FIN\n",
        "```"
      ]
    },
    {
      "cell_type": "code",
      "execution_count": null,
      "metadata": {
        "id": "j_sKOCJBpSE-"
      },
      "outputs": [
        {
          "ename": "",
          "evalue": "",
          "output_type": "error",
          "traceback": [
            "\u001b[1;31mRunning cells with 'c:\\Users\\Santi\\AppData\\Local\\Programs\\Python\\Python311\\python.exe' requires the ipykernel package.\n",
            "\u001b[1;31mRun the following command to install 'ipykernel' into the Python environment. \n",
            "\u001b[1;31mCommand: 'c:/Users/Santi/AppData/Local/Programs/Python/Python311/python.exe -m pip install ipykernel -U --user --force-reinstall'"
          ]
        }
      ],
      "source": [
        "cent = float(input(\"Ingrese la cantidad de centimetros para convertir a pies >> \"))\n",
        "pies = cent/30.48\n",
        "print('El valor de los centimetros en pies es de >> ')"
      ]
    },
    {
      "cell_type": "markdown",
      "metadata": {
        "id": "g47QC4xlpa56"
      },
      "source": [
        "7. Una institución benéfica europea ha recibido tres donaciones en soles, \n",
        "dólares y marcos. La donación será repartida en tres rubros: 40% para la \n",
        "implementación de un centro de salud, 40% para un comedor de niños y el \n",
        "resto para gastos administrativos. Diseñe un algoritmo que determine el \n",
        "monto en euros que le corresponde a cada rubro. Considere que: 1 dólar = \n",
        "3.52 soles, 1 dólar = 2.08 marcos, 1 dólar = 1.07 euros.\n",
        "\n",
        "```python\n",
        "INICIO\n",
        "DEFINIR\n",
        "Real: c soles, cdolares, c marcos, ceuros, rubro1, rubro2, rubro3 \n",
        "LEER csoles, cdolares, cmarcos\n",
        "// Determina el total en euros\n",
        "ceuros = (csoles/3.52 + cdolares + cmarcos/2.08)*1.07\n",
        "// Determina el monto de cada rubro\n",
        "rubro1 = ceuros*0.40\n",
        "rubro2 = ceuros*0.40\n",
        "rubro3 = ceuros*0.20\n",
        "IMPRIMIR rubro1, rubro2, rubro3\n",
        "FIN\n",
        "```"
      ]
    },
    {
      "cell_type": "code",
      "execution_count": null,
      "metadata": {
        "id": "dy2T4enRptqT"
      },
      "outputs": [
        {
          "ename": "",
          "evalue": "",
          "output_type": "error",
          "traceback": [
            "\u001b[1;31mRunning cells with 'c:\\Users\\Santi\\AppData\\Local\\Programs\\Python\\Python311\\python.exe' requires the ipykernel package.\n",
            "\u001b[1;31mRun the following command to install 'ipykernel' into the Python environment. \n",
            "\u001b[1;31mCommand: 'c:/Users/Santi/AppData/Local/Programs/Python/Python311/python.exe -m pip install ipykernel -U --user --force-reinstall'"
          ]
        }
      ],
      "source": [
        "cant_de_soles = float(input('Ingrese la cantidad de soles recibidos >> '))\n",
        "cant_de_usd = float(input('Ingrese la cantidad de dolares recibidos >> '))\n",
        "cant_de_marcos = float(input('Ingrese la cantidad de marcos recibidos >> '))\n",
        "total_en_euros = (cant_de_soles/3.52 + cant_de_usd + cant_de_marcos/2.08)*1.07\n",
        "\n",
        "rubro1 = total_en_euros*0.40\n",
        "rubro2 = total_en_euros*0.40\n",
        "rubro3 = total_en_euros*0.20\n",
        "\n",
        "print('Al rubro 1 le corresponden la siguiente cantidad de euros >> ' + rubro1)\n",
        "print('Al rubro 2 le corresponden la siguiente cantidad de euros >> ' + rubro2)\n",
        "print('Al rubro 3 le corresponden la siguiente cantidad de euros >> ' + rubro3)"
      ]
    },
    {
      "cell_type": "markdown",
      "metadata": {
        "id": "dZfC3G1BpyJr"
      },
      "source": [
        "8. Diseñe un algoritmo que determine la suma de las cifras de un número \n",
        "entero positivo de 4 cifras.\n",
        "\n",
        "\n",
        "Para obtener las cifras de un número podemos proceder mediante divisiones \n",
        "sucesivas entre 10. \n",
        "\n",
        "```python\n",
        "unidad = N%10\n",
        "cociente = N/10\n",
        "decena = cociente%10\n",
        "cociente = cociente/10\n",
        "centena = cociente%10\n",
        "millar = cociente/10 \n",
        "```\n",
        "Observe que a cambio de la variable cociente puede usarse la misma variable N ya que lo que interesa es que N guarde el nuevo dividendo para la próxima división. Así:\n",
        "```python\n",
        "unidad = N%10\n",
        "N = N/10\n",
        "decena = N%10\n",
        "N = N/10\n",
        "centena = N%10\n",
        "millar = N/10 \n",
        "```\n",
        "Por otro lado, considerando que el número tiene 4 cifras, también podrían \n",
        "obtenerse las cifras por divisiones sucesivas entre 1000, 100 y 10. Que puede expresarse como: \n",
        "```python\n",
        "millar = N/1000\n",
        "resto = N%1000\n",
        "centena = resto/100\n",
        "resto = resto%100\n",
        "decena = resto/10\n",
        "unidad = resto%10 \n",
        "```\n",
        "```python\n",
        "INICIO\n",
        "DEFINIR\n",
        "Entero: N, suma, millar, centena, decena, unidad, resto \n",
        "LEER N\n",
        "millar = N/1000\n",
        "resto = N%1000\n",
        "centena = resto/100\n",
        "resto = resto%100\n",
        "decena = resto/10\n",
        "unidad = resto%10\n",
        "suma = unidad + decena + centena + millar\n",
        "IMPRIMIR suma\n",
        "FIN\n",
        "```"
      ]
    },
    {
      "cell_type": "code",
      "execution_count": null,
      "metadata": {
        "id": "V9LQGUeirXfU"
      },
      "outputs": [
        {
          "ename": "",
          "evalue": "",
          "output_type": "error",
          "traceback": [
            "\u001b[1;31mRunning cells with 'c:\\Users\\Santi\\AppData\\Local\\Programs\\Python\\Python311\\python.exe' requires the ipykernel package.\n",
            "\u001b[1;31mRun the following command to install 'ipykernel' into the Python environment. \n",
            "\u001b[1;31mCommand: 'c:/Users/Santi/AppData/Local/Programs/Python/Python311/python.exe -m pip install ipykernel -U --user --force-reinstall'"
          ]
        }
      ],
      "source": [
        "num = int(input('Ingrese el numero entero a analizar >> '))\n",
        "\n",
        "millar = num/1000\n",
        "resto = num%1000\n",
        "centena = resto%100\n",
        "decena = resto/10\n",
        "unidad = resto%10\n",
        "suma = unidad + decena + centena + millar\n",
        "print('El total de la suma de las cifras de un numero entero positivo de 4 cifras es de >> ' + suma)"
      ]
    },
    {
      "cell_type": "markdown",
      "metadata": {
        "id": "Ld1qllhgrfr0"
      },
      "source": [
        "9. Diseñe un algoritmo que exprese la capacidad de un disco duro en \n",
        "megabytes, kilobytes y bytes, conociendo la capacidad del disco en \n",
        "gigabytes. Considere que: 1 kilobyte = 1024 bytes, 1 megabyte = 1024 \n",
        "kilobyte, 1 gigabyte = 1024 megabytes.\n",
        "\n",
        "```python\n",
        "INICIO\n",
        "DEFINIR\n",
        "Real: abyte, cmegabyte, ckilobyte, cbyte\n",
        "LEER cgigabyte\n",
        "cmegabyte = cgigabyte*1024\n",
        "ckilobyte = cmegabyte*1024\n",
        "cbyte = ckilobyte*1024\n",
        "IMPRIMIR cmegabyte, ckilobyte, cbyte\n",
        "FIN\n",
        "```\n"
      ]
    },
    {
      "cell_type": "code",
      "execution_count": null,
      "metadata": {
        "id": "MWa3sWadrpPj"
      },
      "outputs": [
        {
          "ename": "",
          "evalue": "",
          "output_type": "error",
          "traceback": [
            "\u001b[1;31mRunning cells with 'c:\\Users\\Santi\\AppData\\Local\\Programs\\Python\\Python311\\python.exe' requires the ipykernel package.\n",
            "\u001b[1;31mRun the following command to install 'ipykernel' into the Python environment. \n",
            "\u001b[1;31mCommand: 'c:/Users/Santi/AppData/Local/Programs/Python/Python311/python.exe -m pip install ipykernel -U --user --force-reinstall'"
          ]
        }
      ],
      "source": [
        "cant_gigas = float(input('Ingrese la cantidad de gigabytes que contiene el disco duro >> '))\n",
        "cant_megas = cant_gigas*1024\n",
        "cant_kilo = cant_megas*1024\n",
        "cant_byte = cant_kilo*1024\n",
        "\n",
        "print('El espacio del disco en megabytes es de >> ' + cant_megas)\n",
        "print('El espacio del disco en kilobytes es de >> ' + cant_kilo)\n",
        "print('El espacio del disco en bytes es de >> ' + cant_byte)"
      ]
    },
    {
      "cell_type": "markdown",
      "metadata": {
        "id": "XtxlMKXVrpv8"
      },
      "source": [
        "10.Diseñe un algoritmo para sumar dos tiempos dados en horas, minutos y \n",
        "segundos.\n",
        "\n",
        "```python\n",
        "INICIO\n",
        "DEFINIR\n",
        "Entero: hor1, min1, seg1, hor2, min2, seg2, hor3, min3, seg3, totseg, resto \n",
        "LEER hor1, min1, seg1, hor2, min2, seg2 \n",
        "totseg = (hor1+hor2)*3600 + (min1+min2)*60 + (seg1+seg2)\n",
        "hor3 = totseg/3600\n",
        "resto = totseg%3600\n",
        "min3 = resto/60\n",
        "seg3 = resto%60\n",
        "IMPRIMIR hor3, min3, seg3\n",
        "FIN\n",
        "```"
      ]
    },
    {
      "cell_type": "code",
      "execution_count": null,
      "metadata": {},
      "outputs": [
        {
          "ename": "",
          "evalue": "",
          "output_type": "error",
          "traceback": [
            "\u001b[1;31mRunning cells with 'c:\\Users\\Santi\\AppData\\Local\\Programs\\Python\\Python311\\python.exe' requires the ipykernel package.\n",
            "\u001b[1;31mRun the following command to install 'ipykernel' into the Python environment. \n",
            "\u001b[1;31mCommand: 'c:/Users/Santi/AppData/Local/Programs/Python/Python311/python.exe -m pip install ipykernel -U --user --force-reinstall'"
          ]
        }
      ],
      "source": [
        "h1 = int(input('Ingrese la primer cantidad de horas >> '))\n",
        "m1 = int(input('Ingrese la primer cantidad de minutos >> '))\n",
        "s1 = int(input('Ingrese la primer cantidad de segundos >> '))\n",
        "h2 = int(input('Ingrese la segunda cantidad de horas >> '))\n",
        "m2 = int(input('Ingrese la segunda cantidad de minutos >> '))\n",
        "s2 = int(input('Ingrese la segunda cantidad de segundos >> '))\n",
        "\n",
        "totseg = (h1+h2)*3600 + (m1+m2)*60 + (s1+s2)\n",
        "h3 = totseg/3600\n",
        "resto = totseg%3600\n",
        "m3 = resto/60\n",
        "s3 = resto%60\n",
        "\n",
        "print('La hora total es de >> ' + h3 + \"horas\")\n",
        "print('Los minutos totales son >> ' + m3 + 'minutos')\n",
        "print('Los segundos totales son >> ' + s3 + 'segundos')"
      ]
    },
    {
      "cell_type": "markdown",
      "metadata": {
        "id": "5TAnen8ssH35"
      },
      "source": [
        "11.En una playa de estacionamiento cobran S/. 2.5 por hora o fracción. Diseñe un algoritmo que determine cuanto debe pagar un cliente por el \n",
        "estacionamiento de su vehículo, conociendo el tiempo de estacionamiento \n",
        "en horas y minutos.\n",
        "```python\n",
        "INICIO\n",
        "DEFINIR\n",
        "Entero: horas, minutos\n",
        "Real: pago\n",
        "LEER horas, minutos\n",
        "SI (minutos > 0 ) ENTONCES\n",
        "horas = horas + 1\n",
        "pago = horas * 2.5\n",
        "FIN SI\n",
        "IMPRIMIR pago\n",
        "FIN\n",
        "```"
      ]
    },
    {
      "cell_type": "code",
      "execution_count": null,
      "metadata": {
        "id": "KUPoeC7EsmSy"
      },
      "outputs": [
        {
          "ename": "",
          "evalue": "",
          "output_type": "error",
          "traceback": [
            "\u001b[1;31mRunning cells with 'c:\\Users\\Santi\\AppData\\Local\\Programs\\Python\\Python311\\python.exe' requires the ipykernel package.\n",
            "\u001b[1;31mRun the following command to install 'ipykernel' into the Python environment. \n",
            "\u001b[1;31mCommand: 'c:/Users/Santi/AppData/Local/Programs/Python/Python311/python.exe -m pip install ipykernel -U --user --force-reinstall'"
          ]
        }
      ],
      "source": [
        "horas = int(input('Determine la cantidad de horas que se quedara el cliente >> '))\n",
        "minutos = int(input('Determine la cantidad de minutos que se quedara el cliente >> '))\n",
        "pago = int\n",
        "if minutos > 0:\n",
        "    horas = horas + 1\n",
        "    pago = horas * 2.5\n",
        "    \n",
        "print('El cliente debe pagar >> ' + pago)"
      ]
    },
    {
      "cell_type": "markdown",
      "metadata": {
        "id": "MqY5dS8ksmuZ"
      },
      "source": [
        "12.Diseñe un algoritmo que determine el mayor valor de cuatro números a, b, c, d. \n",
        "\n",
        "```python\n",
        "INICIO\n",
        "DEFINIR\n",
        "Real a, b, c, d, mayor \n",
        "LEER a, b, c, d\n",
        "mayor = a\n",
        "SI (b > mayor ) ENTONCES\n",
        "mayor = b\n",
        "SI ( c > mayor ) ENTONCES\n",
        "mayor = c\n",
        "SI ( d > mayor ) ENTONCES\n",
        "mayor = d\n",
        "IMPRIMIR mayor\n",
        "FIN\n",
        "```\n",
        "Observación \n",
        "En caso de que los cuatro números sean iguales entre sí, el algoritmo da como mayor a cualquiera de los cuatro.\n",
        "\n",
        "****Revisar el caso de la busquedad del menor"
      ]
    },
    {
      "cell_type": "code",
      "execution_count": null,
      "metadata": {
        "id": "Lit2JhGqtL4K"
      },
      "outputs": [
        {
          "ename": "",
          "evalue": "",
          "output_type": "error",
          "traceback": [
            "\u001b[1;31mRunning cells with 'c:\\Users\\Santi\\AppData\\Local\\Programs\\Python\\Python311\\python.exe' requires the ipykernel package.\n",
            "\u001b[1;31mRun the following command to install 'ipykernel' into the Python environment. \n",
            "\u001b[1;31mCommand: 'c:/Users/Santi/AppData/Local/Programs/Python/Python311/python.exe -m pip install ipykernel -U --user --force-reinstall'"
          ]
        }
      ],
      "source": [
        "a = int(input('Ingrese el valor de a >> '))\n",
        "b = int(input('Ingrese el valor de b >> '))\n",
        "c = int(input('Ingrese el valor de c >> '))\n",
        "d = int(input('Ingrese el valor de d >> '))\n",
        "\n",
        "mayor = a\n",
        "\n",
        "if b > mayor:\n",
        "    mayor = b\n",
        "if c > mayor:\n",
        "    mayor = c\n",
        "if d > mayor:\n",
        "    mayor = d\n",
        "    \n",
        "print('El mayor numero es >> ' + mayor)"
      ]
    },
    {
      "cell_type": "markdown",
      "metadata": {
        "id": "s5UrOcHItTd9"
      },
      "source": [
        "13.Una tienda ha puesto en oferta la venta al por mayor de cierto producto, ofreciendo un descuento del 15% por la compra de más de 3 docenas y 10% en caso contrario. Además, por la compra de más de 3 docenas se obsequia una unidad del producto por cada docena en exceso sobre 3. \n",
        "Diseñe un algoritmo que determine el monto de la compra, el monto del \n",
        "descuento, el monto a pagar y el número de unidades de obsequio por la \n",
        "compra de cierta cantidad de docenas del producto.\n",
        "\n",
        "```python\n",
        "INICIO\n",
        "DEFINIR\n",
        "Real: montopag, montocom, montodes, precio \n",
        "Entero: docenas, obsequio \n",
        "LEER docenas, precio\n",
        "montocom = docenas*precio \n",
        "SI ( docenas > 3 ) ENTONCES\n",
        " montodes = 0.15*montocom\n",
        " obsequio = docenas-3\n",
        "SINO\n",
        " montodes = 0.10*montocom\n",
        " obsequio = 0\n",
        "FIN SI\n",
        " montopag = montocom – montodes\n",
        "IMPRIMIR montocom, montodes, montopag\n",
        "FIN\n",
        "```"
      ]
    },
    {
      "cell_type": "code",
      "execution_count": null,
      "metadata": {
        "id": "cigPax30tiD7"
      },
      "outputs": [
        {
          "ename": "",
          "evalue": "",
          "output_type": "error",
          "traceback": [
            "\u001b[1;31mRunning cells with 'c:\\Users\\Santi\\AppData\\Local\\Programs\\Python\\Python311\\python.exe' requires the ipykernel package.\n",
            "\u001b[1;31mRun the following command to install 'ipykernel' into the Python environment. \n",
            "\u001b[1;31mCommand: 'c:/Users/Santi/AppData/Local/Programs/Python/Python311/python.exe -m pip install ipykernel -U --user --force-reinstall'"
          ]
        }
      ],
      "source": [
        "montopag = float\n",
        "montocom = float\n",
        "montodes = float\n",
        "obsequio = int\n",
        "precio = float(input('Ingrese el precio de la docena >> '))\n",
        "docenas = int(input('Ingrese la cantidad de docenas compradas >> '))\n",
        "\n",
        "montocom = docenas * precio\n",
        "\n",
        "if docenas > 3:\n",
        "    montodes = 0.15*montocom\n",
        "    obsequio = docenas-3\n",
        "else: \n",
        "    montodes = 0.10*montocom\n",
        "    obsequio = 0\n",
        "\n",
        "montopag = montocom - montodes\n",
        "\n",
        "print('El monto de la compra es de >> ' + montocom)\n",
        "print('El monto de descuento es de >> ' + montodes)\n",
        "print('El monto a pagar es de >> ' + montopag)"
      ]
    },
    {
      "cell_type": "markdown",
      "metadata": {
        "id": "el6bIieHtj1i"
      },
      "source": [
        "14.Diseñe un algoritmo que determine quienes son contemporáneos entre \n",
        "Juan, Mario y Pedro.\n",
        "```python\n",
        "INICIO\n",
        "DEFINIR\n",
        "Entero: juan, mario, pedro\n",
        "LEER juan, mario, pedro\n",
        "SI( juan == mario y mario == pedro ) ENTONCES\n",
        "  IMPRIMIR \"Los tres son contemporáneos\"\n",
        "    SINO SI( juan == mario ) ENTONCES\n",
        "          IMPRIMIR \"Juan y Mario son contemporáneos\"\n",
        "        SINO SI ( juan == pedro ) ENTONCES\n",
        "                IMPRIMIR \"Juan y Pedro son contemporáneos\"\n",
        "              SINO SI ( mario == pedro ) ENTONCES\n",
        "                  IMPRIMIR \"Mario y Pedro son contemporáneos\"\n",
        "                  FIN SI\n",
        "            FIN SI\n",
        "    FIN SI\n",
        "IMPRIMIR \"Los tres tienen edades diferentes entre sí\"\n",
        "FIN SI\n",
        "FIN\n",
        "```"
      ]
    },
    {
      "cell_type": "code",
      "execution_count": null,
      "metadata": {
        "id": "CuC6deJcuxlD"
      },
      "outputs": [
        {
          "ename": "",
          "evalue": "",
          "output_type": "error",
          "traceback": [
            "\u001b[1;31mRunning cells with 'c:\\Users\\Santi\\AppData\\Local\\Programs\\Python\\Python311\\python.exe' requires the ipykernel package.\n",
            "\u001b[1;31mRun the following command to install 'ipykernel' into the Python environment. \n",
            "\u001b[1;31mCommand: 'c:/Users/Santi/AppData/Local/Programs/Python/Python311/python.exe -m pip install ipykernel -U --user --force-reinstall'"
          ]
        }
      ],
      "source": [
        "juan = int(input(\"Ingrese la edad de Juan: \"))\n",
        "mario = int(input(\"Ingrese la edad de Mario: \"))\n",
        "pedro = int(input(\"Ingrese la edad de Pedro: \"))\n",
        "\n",
        "if juan == mario and mario == pedro:\n",
        "    print(\"Los tres son contemporaneos\")\n",
        "elif juan == mario:\n",
        "    print(\"Juan y Mario son contemporaneos\")\n",
        "elif juan == pedro:\n",
        "    print(\"Juan y Pedro son contemporaneos\")\n",
        "elif mario == pedro:\n",
        "    print(\"Mario y Pedro son contemporaneos\")\n",
        "else:\n",
        "    print(\"Los tres tienen edades diferentes entre si\")"
      ]
    },
    {
      "cell_type": "markdown",
      "metadata": {
        "id": "USYqyVH8usU6"
      },
      "source": [
        "15.Diseñe un algoritmo que lea tres números y los imprima de mayor a menor \n",
        "y de menor a mayor\n",
        "\n",
        "```python\n",
        "INICIO\n",
        "DEFINIR\n",
        "Real: n1, n2, n3, mayor, menor, medio\n",
        "LEER n1, n2, n3\n",
        "menor = n1\n",
        "// Determina el menor\n",
        "SI ( n2 < menor ) ENTONCES\n",
        "menor = n2\n",
        "SI ( n3 < menor ) ENTONCES\n",
        "menor = n3\n",
        "// Determina el mayor\n",
        "mayor = n1\n",
        "SI ( n2 > mayor ) ENTONCES\n",
        "mayor = n2\n",
        "SI ( n3 > mayor ) ENTONCES\n",
        "mayor = n3\n",
        "// Determina el medio\n",
        "medio = n1+n2+n3-mayor-menor\n",
        "// Imprime en orden ascendente\n",
        "IMPRIMIR menor, medio, mayor\n",
        "// Imprime en orden descendente\n",
        "IMPRIMIR mayor, medio, menor\n",
        "FIN\n",
        "```"
      ]
    },
    {
      "cell_type": "code",
      "execution_count": null,
      "metadata": {
        "id": "c0HQnO-bu-0i"
      },
      "outputs": [
        {
          "ename": "",
          "evalue": "",
          "output_type": "error",
          "traceback": [
            "\u001b[1;31mRunning cells with 'c:\\Users\\Santi\\AppData\\Local\\Programs\\Python\\Python311\\python.exe' requires the ipykernel package.\n",
            "\u001b[1;31mRun the following command to install 'ipykernel' into the Python environment. \n",
            "\u001b[1;31mCommand: 'c:/Users/Santi/AppData/Local/Programs/Python/Python311/python.exe -m pip install ipykernel -U --user --force-reinstall'"
          ]
        }
      ],
      "source": [
        "n1 = float(input(\"Ingrese el 1er numero: \"))\n",
        "n2 = float(input(\"Ingrese el 2do numero: \"))\n",
        "n3 = float(input(\"Ingrese el 3er numero: \"))\n",
        "menor = n1\n",
        "\n",
        "#Determinar el menor\n",
        "\n",
        "if n2 < menor:\n",
        "    menor = n2\n",
        "if n3 < menor:\n",
        "    menor = n3\n",
        "\n",
        "#Determinar el mayor\n",
        "mayor = n1\n",
        "if n2 > mayor:\n",
        "    mayor = n2\n",
        "if n3 > mayor:\n",
        "    mayor = n3\n",
        "#Determinar el del medio\n",
        "\n",
        "medio = n1+n2+n3-mayor-menor\n",
        "\n",
        "#Imprime en orden ascendente\n",
        "\n",
        "print(menor, medio, mayor)\n",
        "#Imprime en orden descendente\n",
        "print(mayor, medio, menor)"
      ]
    },
    {
      "cell_type": "markdown",
      "metadata": {
        "id": "rrwFTZlIu_ZK"
      },
      "source": [
        "16.Diseñe un algoritmo que califique el puntaje obtenido en el lanzamiento de tres dados en función a la cantidad seis obtenidos, de acuerdo a lo \n",
        "siguiente:\n",
        "\n",
        "- Seis en los tres dados, excelente.\n",
        "- Seis en dos dados, muy bien.\n",
        "- Seis en un dado, regular.\n",
        "- Ningún seis, pésimo.\n",
        "```python\n",
        "INICIO\n",
        "DEFINIR\n",
        "Entero: d1, d2, d3\n",
        "LEER d1, d2, d3 \n",
        "SI ( d1 + d2 + d3 == 18 ) ENTONCES\n",
        "  IMPRIMIR \"Excelente\"\n",
        "SINO SI ( d1+d2 == 12 ó d1+d3 == 12 ó d2+d3 == 12 )\n",
        "        IMPRIMIR \"Muy bien\"\n",
        "      SINO SI ( d1 == 6 ó d2 == 6 ó d3 == 6 )\n",
        "             IMPRIMIR \"Regular\"\n",
        "          SINO\n",
        "            IMPRIMIR \"Pésimo\"\n",
        "          FIN SI\n",
        "      FIN SI\n",
        "FIN SI\n",
        "FIN\n",
        "```"
      ]
    },
    {
      "cell_type": "code",
      "execution_count": 2,
      "metadata": {
        "id": "oXP_xzW7vbcC"
      },
      "outputs": [
        {
          "ename": "ValueError",
          "evalue": "invalid literal for int() with base 10: ''",
          "output_type": "error",
          "traceback": [
            "\u001b[1;31m---------------------------------------------------------------------------\u001b[0m",
            "\u001b[1;31mValueError\u001b[0m                                Traceback (most recent call last)",
            "Cell \u001b[1;32mIn[2], line 1\u001b[0m\n\u001b[1;32m----> 1\u001b[0m d1 \u001b[39m=\u001b[39m \u001b[39mint\u001b[39;49m(\u001b[39minput\u001b[39;49m(\u001b[39m\"\u001b[39;49m\u001b[39mIngrese el valor del primer dado\u001b[39;49m\u001b[39m\"\u001b[39;49m))\n\u001b[0;32m      2\u001b[0m d2 \u001b[39m=\u001b[39m \u001b[39mint\u001b[39m(\u001b[39minput\u001b[39m(\u001b[39m\"\u001b[39m\u001b[39mIngrese el valor del segundo dado\u001b[39m\u001b[39m\"\u001b[39m))\n\u001b[0;32m      3\u001b[0m d3 \u001b[39m=\u001b[39m \u001b[39mint\u001b[39m(\u001b[39minput\u001b[39m(\u001b[39m\"\u001b[39m\u001b[39mIngrese el valor del tercer dado\u001b[39m\u001b[39m\"\u001b[39m))\n",
            "\u001b[1;31mValueError\u001b[0m: invalid literal for int() with base 10: ''"
          ]
        }
      ],
      "source": [
        "d1 = int(input(\"Ingrese el valor del primer dado\"))\n",
        "d2 = int(input(\"Ingrese el valor del segundo dado\"))\n",
        "d3 = int(input(\"Ingrese el valor del tercer dado\"))\n",
        "\n",
        "if (d1 + d2 + d3) == 18: print('Excelente')\n",
        "elif d1+d2 == 12 or d1+d3 == 12 or d2 + d3 == 12: print(\"Muy bien\")\n",
        "elif d1 == 6 or d2 == 6 or d3 == 6: print('Regular')\n",
        "else: print('Pesimo')\n"
      ]
    },
    {
      "cell_type": "markdown",
      "metadata": {
        "id": "AoQ65EO-vbqr"
      },
      "source": [
        "17.Una compañía dedicada al alquiler de automoviles cobra 30 pesos hasta un máximo de 300 km de distancia recorrida. Para más de 300 km y hasta \n",
        "1000 km, cobra 30 más un monto adicional de 0.15 por cada kilómetro \n",
        "en exceso sobre 300. Para más de 1000 km cobra 30 más un monto \n",
        "adicional de 0.10 por cada kilómetro en exceso sobre 1000. Diseñe un \n",
        "algoritmo que determine el monto a pagar por el alquiler de un vehículo y el monto incluido del impuesto.\n",
        "```python\n",
        "INICIO\n",
        "DEFINIR\n",
        "REAL: kilomrec, montofijo, montoadic, montopag, montoigv \n",
        "LEER kilomrec\n",
        "montofijo = 30\n",
        "SI ( kilomrec <= 300 ) ENTONCES\n",
        "    montoadic = 0\n",
        "SINO SI( kilomrec <= 1000 ) ENTONCES\n",
        "        montoadic = 0.15*(kilomrec-300)\n",
        "      SINO\n",
        "        montoadic = 0.15*700 + 0.10*(kilomrec-1000)\n",
        "    FIN SI\n",
        "FIN SI\n",
        "montopag = montofijo + montoadic\n",
        "IMPRIMIR montopag, montoadic\n",
        "FIN\n",
        "```"
      ]
    },
    {
      "cell_type": "code",
      "execution_count": null,
      "metadata": {
        "id": "oWb0jGMUwBMp"
      },
      "outputs": [],
      "source": [
        "kmrec = float(input(\"Ingrese la cantidad de km recorridos\"))\n",
        "montofijo = 30\n",
        "montoadic = float\n",
        "montopag = float\n",
        "montoigv = float\n",
        "\n",
        "if kmrec <= 300:\n",
        "    montoadic = 0\n",
        "elif kmrec <= 1000:\n",
        "    montoadic = 0.15*(kmrec-300)\n",
        "else:\n",
        "    montoadic = 0.15*700 + 0.10*(kmrec-1000)\n",
        "\n",
        "montopag = montofijo + montoadic\n",
        "\n",
        "print(montopag, \", \", montoadic)"
      ]
    },
    {
      "cell_type": "markdown",
      "metadata": {
        "id": "DPt1GeYTwB85"
      },
      "source": [
        "18.Diseñe un algoritmo que lea tres longitudes y determine si forman o no un triángulo. Si es un triángulo determine de que tipo de triángulo se trata entre: equilátero (si tiene tres lados iguales), isósceles (si tiene dos lados iguales) o escaleno (si tiene tres lados desiguales). Considere que para formar un triángulo se requiere que: \"el lado mayor sea menor que la suma de los otros dos lados\"\n",
        "\n",
        "```python\n",
        "INICIO\n",
        "DEFINIR\n",
        "REAL: L1, L2, L3, suma\n",
        "LEER L1, L2, L3\n",
        "# Determina el lado mayor\n",
        "mayor = L1\n",
        "SI ( L2 > mayor ) ENTONCES\n",
        "  mayor = L2\n",
        "SI( L3 > mayor ) ENTONCES\n",
        "  mayor = L3\n",
        "# Determina la suma de los lados a excepción del lado mayor\n",
        "suma = L1 + L2 + L3 - mayor \n",
        "# Determina de que tipo de triángulo se trata\n",
        "SI ( mayor < suma ) ENTONCES\n",
        "  SI ( ( L1 == L2 ) y ( L2 == L3 ) ) ENTONCES\n",
        "    IMPRIMIR \"Triángulo equilátero\"\n",
        "  SINO SI ( ( L1 == L2 ) o ( L1 == L3 ) o ( L2 == L3 ) ) ENTONCES\n",
        "          IMPRIMIR \"Triángulo isósceles\"\n",
        "        SINO\n",
        "          IMPRIMIR \"Triángulo escaleno\"\n",
        "        FIN SI\n",
        "  FIN SI\n",
        "SINO\n",
        "IMPRIMIR \"No es un triángulo\"\n",
        "FIN SI\n",
        "FIN\n",
        "```"
      ]
    },
    {
      "cell_type": "code",
      "execution_count": null,
      "metadata": {
        "id": "g9hc7h-gwpgu"
      },
      "outputs": [],
      "source": [
        "l1 = float(input(\"Ingrese la primer longitud >> \"))\n",
        "l2 = float(input(\"Ingrese la segunda longitud >> \"))\n",
        "l3 = float(input(\"Ingrese la tercer longitud >> \"))\n",
        "\n",
        "mayor = l1\n",
        "if l2 > mayor:\n",
        "    mayor = l2\n",
        "if l3 > mayor: \n",
        "    mayor = l3\n",
        "    \n",
        "suma = l1 + l2 + l3 - mayor\n",
        "\n",
        "if mayor < suma:\n",
        "    if l1==l2 and l2==l3:\n",
        "        print('Triangulo equilatero')\n",
        "    elif l1==l2 or l1==l3 or l2==l3:\n",
        "        print('Isosceles')\n",
        "    else: print('Escaleno')\n",
        "else: print('No es un triangulo')\n"
      ]
    },
    {
      "cell_type": "markdown",
      "metadata": {
        "id": "kCkr-RzMwmSS"
      },
      "source": [
        "19.El promedio de prácticas de un curso se calcula en base a cuatro prácticas calificadas de las cuales se elimina la nota menor y se promedian las tres notas más altas. Diseñe un algoritmo que determine la nota eliminada y el promedio de prácticas de un estudiante.\n",
        "\n",
        "```python\n",
        "INICIO\n",
        "DEFINIR\n",
        "REAL: pc1, pc2, pc3, pc4, pcmenor, promedio\n",
        "LEER pc1, pc2, pc3, pc4\n",
        "// Determina la nota menor\n",
        "pcmenor = pc1\n",
        "SI ( pc2 < pcmenor ) ENTONCES\n",
        "pcmenor = pc2\n",
        "SI ( pc3 < pcmenor ) ENTONCES\n",
        "pcmenor = pc3\n",
        "SI ( pc4 < pcmenor ) ENTONCES\n",
        "pcmenor = pc4\n",
        "// Determina el promedio descontando la nota menor\n",
        "promedio = (pc1 + pc2 + pc3 + pc4 - pcmenor )/3\n",
        "IMPRIMIR promedio, pcmenor\n",
        "FIN\n",
        "```"
      ]
    },
    {
      "cell_type": "code",
      "execution_count": null,
      "metadata": {
        "id": "y2NW7d9ow27i"
      },
      "outputs": [],
      "source": [
        "pc1 = float(input('Ingrese la 1er nota >> '))\n",
        "pc2 = float(input('Ingrese la 2da nota >> '))\n",
        "pc3 = float(input('Ingrese la 3er nota >> '))\n",
        "pc4 = float(input('Ingrese la 4ta nota >> '))\n",
        "\n",
        "pcmenor = pc1\n",
        "\n",
        "if pc2 < pcmenor: pcmenor = pc2\n",
        "if pc3 < pcmenor: pcmenor = pc3\n",
        "if pc4 < pcmenor: pcmenor = pc4\n",
        "\n",
        "prm = (pc1+pc2+pc3+pc4-pcmenor)/3\n",
        "\n",
        "print(prm, \", \", pcmenor)"
      ]
    },
    {
      "cell_type": "markdown",
      "metadata": {
        "id": "oHV3xgBKw78T"
      },
      "source": [
        "20.Diseñe un algoritmo que dada una cantidad con el IVA (16%) incluido. \n",
        "determine el monto sin impuesto y el monto correspondiente al impuesto.\n",
        "Ejemplo:\n",
        "11600 = 10000 Monto + 1600 IVA\n",
        "```python\n",
        "INICIO\n",
        "DEFINIR\n",
        "Real: cantidad, cantsiniva, cantiva\n",
        "LEER cantidad\n",
        "cantsiniva=cantidad/(1+0.16)\n",
        "cantiva=0.16*cantidad/(1+0.16)\n",
        "IMPRIMIR cantsiniva, cantiva\n",
        "FIN\n",
        "```"
      ]
    },
    {
      "cell_type": "code",
      "execution_count": null,
      "metadata": {
        "id": "9IWroHFPxC2z"
      },
      "outputs": [],
      "source": [
        "cant = float(input(\"Ingrese la cantidad >> \"))\n",
        "cantsiniva = cant/(1+0.16)\n",
        "cantiva = 0.16*cant/(1+0.16)\n",
        "print(cantsiniva, cantiva)"
      ]
    }
  ],
  "metadata": {
    "colab": {
      "provenance": []
    },
    "kernelspec": {
      "display_name": "Python 3",
      "name": "python3"
    },
    "language_info": {
      "codemirror_mode": {
        "name": "ipython",
        "version": 3
      },
      "file_extension": ".py",
      "mimetype": "text/x-python",
      "name": "python",
      "nbconvert_exporter": "python",
      "pygments_lexer": "ipython3",
      "version": "3.11.1"
    }
  },
  "nbformat": 4,
  "nbformat_minor": 0
}
